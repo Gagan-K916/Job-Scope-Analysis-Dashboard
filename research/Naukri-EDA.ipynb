{
 "cells": [
  {
   "cell_type": "markdown",
   "id": "8ffef179-718c-47cc-9fd6-87be8b210fc4",
   "metadata": {},
   "source": [
    "### Importing the prerequisites"
   ]
  },
  {
   "cell_type": "code",
   "execution_count": 71,
   "id": "9e00d192-ac96-4100-8825-ee5799d72c9e",
   "metadata": {},
   "outputs": [],
   "source": [
    "import os\n",
    "import re\n",
    "\n",
    "from collections import Counter\n",
    "import pandas as pd\n",
    "import matplotlib.pyplot as plt"
   ]
  },
  {
   "cell_type": "code",
   "execution_count": 6,
   "id": "1a6a7722-0235-4875-86d5-2bc16a753856",
   "metadata": {},
   "outputs": [],
   "source": [
    "os.chdir('C:\\\\Users\\\\Gagan K\\\\Downloads\\\\MiniProject\\\\naukri datasets')"
   ]
  },
  {
   "cell_type": "code",
   "execution_count": 9,
   "id": "a0e5d866-533d-47aa-9fa3-fe7ab273b1d9",
   "metadata": {},
   "outputs": [
    {
     "data": {
      "text/plain": [
       "'C:\\\\Users\\\\Gagan K\\\\Downloads\\\\MiniProject\\\\naukri datasets'"
      ]
     },
     "execution_count": 9,
     "metadata": {},
     "output_type": "execute_result"
    }
   ],
   "source": [
    "os.getcwd()"
   ]
  },
  {
   "cell_type": "code",
   "execution_count": 7,
   "id": "76c5e1ce-84c5-4a96-bfc5-d2112fec0abd",
   "metadata": {},
   "outputs": [],
   "source": [
    "data = pd.DataFrame(columns=[\n",
    "       'Keyword', 'Job Title', 'URL', 'Company Name', 'Work Mode',\n",
    "       'Experience Required', 'Salary', 'Location', 'Post Rating',\n",
    "       'No. of Reviews', 'Post Age', 'Job Openings', 'No. of Applicants',\n",
    "       'Role Name', 'Industry Type', 'Department', 'Employment Type',\n",
    "       'Role Category', 'UG Requirements', 'PG Requirements',\n",
    "       'Skills Required'\n",
    "        ])"
   ]
  },
  {
   "cell_type": "markdown",
   "id": "6fd2fd9e-0ecb-4a2d-8b30-c7dd4c8f8ede",
   "metadata": {},
   "source": [
    "### Compiling data"
   ]
  },
  {
   "cell_type": "code",
   "execution_count": 10,
   "id": "29643453-6686-40b9-a65f-2e0852477960",
   "metadata": {},
   "outputs": [],
   "source": [
    "frames = []\n",
    "for _, _, file_names in os.walk(os.getcwd()):\n",
    "    for file_name in file_names:\n",
    "        temp = pd.read_csv(file_name, encoding = 'latin')\n",
    "        temp.insert(0, 'Keyword', file_name.split('.')[0])\n",
    "        frames.append(temp)"
   ]
  },
  {
   "cell_type": "code",
   "execution_count": 11,
   "id": "8c32e865-c011-4035-918e-04fd9b5adcba",
   "metadata": {},
   "outputs": [],
   "source": [
    "data = pd.concat(frames)"
   ]
  },
  {
   "cell_type": "code",
   "execution_count": 12,
   "id": "1ab2e40c-e42a-4355-be23-7c6d0fd29510",
   "metadata": {},
   "outputs": [
    {
     "data": {
      "text/html": [
       "<div>\n",
       "<style scoped>\n",
       "    .dataframe tbody tr th:only-of-type {\n",
       "        vertical-align: middle;\n",
       "    }\n",
       "\n",
       "    .dataframe tbody tr th {\n",
       "        vertical-align: top;\n",
       "    }\n",
       "\n",
       "    .dataframe thead th {\n",
       "        text-align: right;\n",
       "    }\n",
       "</style>\n",
       "<table border=\"1\" class=\"dataframe\">\n",
       "  <thead>\n",
       "    <tr style=\"text-align: right;\">\n",
       "      <th></th>\n",
       "      <th>Keyword</th>\n",
       "      <th>Job Title</th>\n",
       "      <th>URL</th>\n",
       "      <th>Company Name</th>\n",
       "      <th>Work Mode</th>\n",
       "      <th>Experience Required</th>\n",
       "      <th>Salary</th>\n",
       "      <th>Location</th>\n",
       "      <th>Post Rating</th>\n",
       "      <th>No. of Reviews</th>\n",
       "      <th>...</th>\n",
       "      <th>Job Openings</th>\n",
       "      <th>No. of Applicants</th>\n",
       "      <th>Role Name</th>\n",
       "      <th>Industry Type</th>\n",
       "      <th>Department</th>\n",
       "      <th>Employment Type</th>\n",
       "      <th>Role Category</th>\n",
       "      <th>UG Requirements</th>\n",
       "      <th>PG Requirements</th>\n",
       "      <th>Skills Required</th>\n",
       "    </tr>\n",
       "  </thead>\n",
       "  <tbody>\n",
       "    <tr>\n",
       "      <th>0</th>\n",
       "      <td>data analyst</td>\n",
       "      <td>Data Analyst</td>\n",
       "      <td>https://www.naukri.com/job-listings-data-analy...</td>\n",
       "      <td>Morepen Laboratories</td>\n",
       "      <td>Work From Office</td>\n",
       "      <td>0 - 2 years</td>\n",
       "      <td>2-5 Lacs P.A.</td>\n",
       "      <td>Mumbai (All Areas)</td>\n",
       "      <td>4.0</td>\n",
       "      <td>335 Reviews</td>\n",
       "      <td>...</td>\n",
       "      <td>1.0</td>\n",
       "      <td>8355</td>\n",
       "      <td>Data Analyst</td>\n",
       "      <td>Pharmaceutical &amp; Life Sciences</td>\n",
       "      <td>Data Science &amp; Analytics</td>\n",
       "      <td>Full Time, Permanent</td>\n",
       "      <td>Business Intelligence &amp; Analytics</td>\n",
       "      <td>B.Tech/B.E. in Chemical</td>\n",
       "      <td>MBA/PGDM in Any Specialization</td>\n",
       "      <td>Data Transformation, Data Analytics, Data Anal...</td>\n",
       "    </tr>\n",
       "    <tr>\n",
       "      <th>1</th>\n",
       "      <td>data analyst</td>\n",
       "      <td>Data Analyst</td>\n",
       "      <td>https://www.naukri.com/job-listings-data-analy...</td>\n",
       "      <td>Fedelty Healthcare Pvt Ltd</td>\n",
       "      <td>Work From Office</td>\n",
       "      <td>0 - 2 years</td>\n",
       "      <td>1-2.25 Lacs P.A.</td>\n",
       "      <td>Mumbai( Fort )</td>\n",
       "      <td>NaN</td>\n",
       "      <td>NaN</td>\n",
       "      <td>...</td>\n",
       "      <td>5.0</td>\n",
       "      <td>4582</td>\n",
       "      <td>Data Science &amp; Analytics - Other</td>\n",
       "      <td>Pharmaceutical &amp; Life Sciences</td>\n",
       "      <td>Data Science &amp; Analytics</td>\n",
       "      <td>Full Time, Permanent</td>\n",
       "      <td>Data Science &amp; Analytics - Other</td>\n",
       "      <td>Any Graduate</td>\n",
       "      <td>NaN</td>\n",
       "      <td>Data Mining, Data Analytics, Analytical Skills...</td>\n",
       "    </tr>\n",
       "    <tr>\n",
       "      <th>2</th>\n",
       "      <td>data analyst</td>\n",
       "      <td>Data Analyst</td>\n",
       "      <td>https://www.naukri.com/job-listings-data-analy...</td>\n",
       "      <td>Client of Mount Talent Firm</td>\n",
       "      <td>Work From Office</td>\n",
       "      <td>5 - 10 years</td>\n",
       "      <td>10-20 Lacs P.A.</td>\n",
       "      <td>Delhi / NCR</td>\n",
       "      <td>NaN</td>\n",
       "      <td>NaN</td>\n",
       "      <td>...</td>\n",
       "      <td>1.0</td>\n",
       "      <td>203</td>\n",
       "      <td>Other</td>\n",
       "      <td>IT Services &amp; Consulting</td>\n",
       "      <td>Other</td>\n",
       "      <td>Full Time, Permanent</td>\n",
       "      <td>Other</td>\n",
       "      <td>Any Graduate</td>\n",
       "      <td>NaN</td>\n",
       "      <td>Data Management and Analytics, ETL, SSIS Packa...</td>\n",
       "    </tr>\n",
       "    <tr>\n",
       "      <th>3</th>\n",
       "      <td>data analyst</td>\n",
       "      <td>Data Analyst</td>\n",
       "      <td>https://www.naukri.com/job-listings-data-analy...</td>\n",
       "      <td>Mediplus</td>\n",
       "      <td>Work From Office</td>\n",
       "      <td>3 - 5 years</td>\n",
       "      <td>3.5-6 Lacs P.A.</td>\n",
       "      <td>Delhi / NCR</td>\n",
       "      <td>4.1</td>\n",
       "      <td>54 Reviews</td>\n",
       "      <td>...</td>\n",
       "      <td>1.0</td>\n",
       "      <td>57</td>\n",
       "      <td>Data Analyst</td>\n",
       "      <td>Medical Devices &amp; Equipment</td>\n",
       "      <td>Data Science &amp; Analytics</td>\n",
       "      <td>Full Time, Permanent</td>\n",
       "      <td>Business Intelligence &amp; Analytics</td>\n",
       "      <td>Any Graduate</td>\n",
       "      <td>NaN</td>\n",
       "      <td>Data Analysis, Data Management, Data Analytics</td>\n",
       "    </tr>\n",
       "    <tr>\n",
       "      <th>4</th>\n",
       "      <td>data analyst</td>\n",
       "      <td>Data Analyst</td>\n",
       "      <td>https://www.naukri.com/job-listings-data-analy...</td>\n",
       "      <td>Tecso Charge Zone</td>\n",
       "      <td>Work From Office</td>\n",
       "      <td>2 - 4 years</td>\n",
       "      <td>3-5.5 Lacs P.A.</td>\n",
       "      <td>Vadodara</td>\n",
       "      <td>4.6</td>\n",
       "      <td>2 Reviews</td>\n",
       "      <td>...</td>\n",
       "      <td>1.0</td>\n",
       "      <td>134</td>\n",
       "      <td>Data Science &amp; Analytics - Other</td>\n",
       "      <td>Analytics / KPO / Research</td>\n",
       "      <td>Data Science &amp; Analytics</td>\n",
       "      <td>Full Time, Permanent</td>\n",
       "      <td>Data Science &amp; Analytics - Other</td>\n",
       "      <td>B.Sc in Any Specialization, B.Tech/B.E. in Inf...</td>\n",
       "      <td>MBA/PGDM in Information Technology, MS/M.Sc(Sc...</td>\n",
       "      <td>Power Bi, Advanced Excel, Business Analytics, ...</td>\n",
       "    </tr>\n",
       "  </tbody>\n",
       "</table>\n",
       "<p>5 rows × 21 columns</p>\n",
       "</div>"
      ],
      "text/plain": [
       "        Keyword     Job Title  \\\n",
       "0  data analyst  Data Analyst   \n",
       "1  data analyst  Data Analyst   \n",
       "2  data analyst  Data Analyst   \n",
       "3  data analyst  Data Analyst   \n",
       "4  data analyst  Data Analyst   \n",
       "\n",
       "                                                 URL  \\\n",
       "0  https://www.naukri.com/job-listings-data-analy...   \n",
       "1  https://www.naukri.com/job-listings-data-analy...   \n",
       "2  https://www.naukri.com/job-listings-data-analy...   \n",
       "3  https://www.naukri.com/job-listings-data-analy...   \n",
       "4  https://www.naukri.com/job-listings-data-analy...   \n",
       "\n",
       "                  Company Name         Work Mode Experience Required  \\\n",
       "0         Morepen Laboratories  Work From Office         0 - 2 years   \n",
       "1   Fedelty Healthcare Pvt Ltd  Work From Office         0 - 2 years   \n",
       "2  Client of Mount Talent Firm  Work From Office        5 - 10 years   \n",
       "3                     Mediplus  Work From Office         3 - 5 years   \n",
       "4            Tecso Charge Zone  Work From Office         2 - 4 years   \n",
       "\n",
       "              Salary            Location  Post Rating No. of Reviews  ...  \\\n",
       "0     2-5 Lacs P.A.   Mumbai (All Areas)          4.0    335 Reviews  ...   \n",
       "1  1-2.25 Lacs P.A.       Mumbai( Fort )          NaN            NaN  ...   \n",
       "2   10-20 Lacs P.A.          Delhi / NCR          NaN            NaN  ...   \n",
       "3   3.5-6 Lacs P.A.          Delhi / NCR          4.1     54 Reviews  ...   \n",
       "4   3-5.5 Lacs P.A.             Vadodara          4.6      2 Reviews  ...   \n",
       "\n",
       "  Job Openings  No. of Applicants                         Role Name  \\\n",
       "0          1.0               8355                      Data Analyst   \n",
       "1          5.0               4582  Data Science & Analytics - Other   \n",
       "2          1.0                203                             Other   \n",
       "3          1.0                 57                      Data Analyst   \n",
       "4          1.0                134  Data Science & Analytics - Other   \n",
       "\n",
       "                    Industry Type                Department  \\\n",
       "0  Pharmaceutical & Life Sciences  Data Science & Analytics   \n",
       "1  Pharmaceutical & Life Sciences  Data Science & Analytics   \n",
       "2        IT Services & Consulting                     Other   \n",
       "3     Medical Devices & Equipment  Data Science & Analytics   \n",
       "4      Analytics / KPO / Research  Data Science & Analytics   \n",
       "\n",
       "        Employment Type                      Role Category  \\\n",
       "0  Full Time, Permanent  Business Intelligence & Analytics   \n",
       "1  Full Time, Permanent   Data Science & Analytics - Other   \n",
       "2  Full Time, Permanent                              Other   \n",
       "3  Full Time, Permanent  Business Intelligence & Analytics   \n",
       "4  Full Time, Permanent   Data Science & Analytics - Other   \n",
       "\n",
       "                                     UG Requirements  \\\n",
       "0                            B.Tech/B.E. in Chemical   \n",
       "1                                       Any Graduate   \n",
       "2                                       Any Graduate   \n",
       "3                                       Any Graduate   \n",
       "4  B.Sc in Any Specialization, B.Tech/B.E. in Inf...   \n",
       "\n",
       "                                     PG Requirements  \\\n",
       "0                     MBA/PGDM in Any Specialization   \n",
       "1                                                NaN   \n",
       "2                                                NaN   \n",
       "3                                                NaN   \n",
       "4  MBA/PGDM in Information Technology, MS/M.Sc(Sc...   \n",
       "\n",
       "                                     Skills Required  \n",
       "0  Data Transformation, Data Analytics, Data Anal...  \n",
       "1  Data Mining, Data Analytics, Analytical Skills...  \n",
       "2  Data Management and Analytics, ETL, SSIS Packa...  \n",
       "3     Data Analysis, Data Management, Data Analytics  \n",
       "4  Power Bi, Advanced Excel, Business Analytics, ...  \n",
       "\n",
       "[5 rows x 21 columns]"
      ]
     },
     "execution_count": 12,
     "metadata": {},
     "output_type": "execute_result"
    }
   ],
   "source": [
    "data.head()"
   ]
  },
  {
   "cell_type": "markdown",
   "id": "40ea93ef-1604-4a5f-acff-cfcbc328fac7",
   "metadata": {},
   "source": [
    "### Data Structure Info"
   ]
  },
  {
   "cell_type": "code",
   "execution_count": 30,
   "id": "30bc3866-4b93-4693-a70c-9186d139b3a0",
   "metadata": {},
   "outputs": [
    {
     "name": "stdout",
     "output_type": "stream",
     "text": [
      "The compiled dataset has 93658 rows and 21 columns.\n",
      "75607 unique rows found. (18051 duplicate rows)\n"
     ]
    }
   ],
   "source": [
    "print(f'''The compiled dataset has {data.shape[0]} rows and {data.shape[1]} columns.\n",
    "{data.nunique()['URL']} unique rows found. ({data.shape[0] - data.nunique()['URL']} duplicate rows)''')"
   ]
  },
  {
   "cell_type": "code",
   "execution_count": 19,
   "id": "3145dce5-7067-4298-a113-0c54698bee84",
   "metadata": {},
   "outputs": [
    {
     "name": "stdout",
     "output_type": "stream",
     "text": [
      "<class 'pandas.core.frame.DataFrame'>\n",
      "Index: 93658 entries, 0 to 10450\n",
      "Data columns (total 21 columns):\n",
      " #   Column               Non-Null Count  Dtype  \n",
      "---  ------               --------------  -----  \n",
      " 0   Keyword              93658 non-null  object \n",
      " 1   Job Title            93658 non-null  object \n",
      " 2   URL                  93658 non-null  object \n",
      " 3   Company Name         93655 non-null  object \n",
      " 4   Work Mode            93658 non-null  object \n",
      " 5   Experience Required  93658 non-null  object \n",
      " 6   Salary               93658 non-null  object \n",
      " 7   Location             93653 non-null  object \n",
      " 8   Post Rating          63430 non-null  float64\n",
      " 9   No. of Reviews       63430 non-null  object \n",
      " 10  Post Age             93658 non-null  object \n",
      " 11  Job Openings         84313 non-null  float64\n",
      " 12  No. of Applicants    93658 non-null  object \n",
      " 13  Role Name            93658 non-null  object \n",
      " 14  Industry Type        93658 non-null  object \n",
      " 15  Department           93658 non-null  object \n",
      " 16  Employment Type      93658 non-null  object \n",
      " 17  Role Category        93658 non-null  object \n",
      " 18  UG Requirements      93658 non-null  object \n",
      " 19  PG Requirements      74192 non-null  object \n",
      " 20  Skills Required      93658 non-null  object \n",
      "dtypes: float64(2), object(19)\n",
      "memory usage: 15.7+ MB\n"
     ]
    }
   ],
   "source": [
    "data.info()"
   ]
  },
  {
   "cell_type": "code",
   "execution_count": 20,
   "id": "4dce28bf-557f-4e15-a9ec-73284821bd75",
   "metadata": {},
   "outputs": [
    {
     "data": {
      "text/plain": [
       "Keyword                    8\n",
       "Job Title              39807\n",
       "URL                    75607\n",
       "Company Name           21824\n",
       "Work Mode                  3\n",
       "Experience Required      247\n",
       "Salary                   676\n",
       "Location                5038\n",
       "Post Rating               41\n",
       "No. of Reviews          1562\n",
       "Post Age                  33\n",
       "Job Openings             164\n",
       "No. of Applicants       6248\n",
       "Role Name                965\n",
       "Industry Type            123\n",
       "Department                37\n",
       "Employment Type            6\n",
       "Role Category            156\n",
       "UG Requirements         1947\n",
       "PG Requirements         1062\n",
       "Skills Required        65266\n",
       "dtype: int64"
      ]
     },
     "execution_count": 20,
     "metadata": {},
     "output_type": "execute_result"
    }
   ],
   "source": [
    "data.nunique()"
   ]
  },
  {
   "cell_type": "markdown",
   "id": "f4c5b6e5-8661-4300-a87c-8fddba08aec8",
   "metadata": {},
   "source": [
    "### Data Cleaning"
   ]
  },
  {
   "cell_type": "code",
   "execution_count": 77,
   "id": "145a7ed4-b778-4169-8c25-c0af6eea3259",
   "metadata": {},
   "outputs": [],
   "source": [
    "data.to_csv('naukri_compiled_dataset.csv', encoding = 'utf-8')"
   ]
  },
  {
   "cell_type": "code",
   "execution_count": null,
   "id": "db4f0863-565d-410d-a809-dbd79e4b8b73",
   "metadata": {},
   "outputs": [],
   "source": []
  }
 ],
 "metadata": {
  "kernelspec": {
   "display_name": "Python 3 (ipykernel)",
   "language": "python",
   "name": "python3"
  },
  "language_info": {
   "codemirror_mode": {
    "name": "ipython",
    "version": 3
   },
   "file_extension": ".py",
   "mimetype": "text/x-python",
   "name": "python",
   "nbconvert_exporter": "python",
   "pygments_lexer": "ipython3",
   "version": "3.11.1"
  }
 },
 "nbformat": 4,
 "nbformat_minor": 5
}
