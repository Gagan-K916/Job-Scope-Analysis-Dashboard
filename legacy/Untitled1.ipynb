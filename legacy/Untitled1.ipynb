{
 "cells": [
  {
   "cell_type": "code",
   "execution_count": 9,
   "id": "75500bd8-9336-4a85-84c0-d51641be1508",
   "metadata": {},
   "outputs": [],
   "source": [
    "import requests\n",
    "from bs4 import BeautifulSoup\n",
    "\n",
    "from selenium import webdriver\n",
    "from selenium.webdriver.common.keys import Keys\n",
    "from selenium.webdriver.common.by import By"
   ]
  },
  {
   "cell_type": "code",
   "execution_count": 3,
   "id": "51c6dbcf-597b-4647-adea-1eeeb6551e44",
   "metadata": {},
   "outputs": [],
   "source": [
    "response = requests.get('https://www.naukri.com/data-analyst-jobs?k=data%20analyst')"
   ]
  },
  {
   "cell_type": "code",
   "execution_count": 5,
   "id": "c79ad11a-fe53-4a9e-a575-43789c4b3dd2",
   "metadata": {},
   "outputs": [
    {
     "data": {
      "text/plain": [
       "True"
      ]
     },
     "execution_count": 5,
     "metadata": {},
     "output_type": "execute_result"
    }
   ],
   "source": [
    "response.ok"
   ]
  },
  {
   "cell_type": "code",
   "execution_count": 8,
   "id": "ff20dfc5-642b-429a-9af4-9da80817f457",
   "metadata": {},
   "outputs": [],
   "source": [
    "soup = BeautifulSoup(response.text, 'html.parser')"
   ]
  },
  {
   "cell_type": "code",
   "execution_count": 11,
   "id": "adf8f50e-c9e9-461e-8e3b-62c533cb6c79",
   "metadata": {},
   "outputs": [],
   "source": [
    "driver = webdriver.Edge()"
   ]
  },
  {
   "cell_type": "code",
   "execution_count": 12,
   "id": "a84e3997-a509-4944-b761-b6c505b1e7c8",
   "metadata": {},
   "outputs": [],
   "source": [
    "driver.get('https://www.naukri.com/data-analyst-jobs?k=data%20analyst')"
   ]
  },
  {
   "cell_type": "code",
   "execution_count": 15,
   "id": "5b9fa659-8cd7-4c4b-a7a2-d6583c9ca446",
   "metadata": {},
   "outputs": [],
   "source": [
    "soup = BeautifulSoup(driver.page_source, 'html.parser')"
   ]
  },
  {
   "cell_type": "code",
   "execution_count": 30,
   "id": "035ebc55-c9c5-42fa-a592-e94b90346119",
   "metadata": {},
   "outputs": [
    {
     "data": {
      "text/plain": [
       "<div class=\"cust-job-tuple layout-wrapper lay-2 sjw__tuple\"><div class=\"row1\"><a class=\"title\" href=\"https://www.naukri.com/job-listings-data-analyst-xoom-inc-chennai-bengaluru-0-to-2-years-170624500567\" rel=\"noopener noreferrer\" target=\"_blank\" title=\"Data Analyst\">Data Analyst</a></div><div class=\"row2\"><span class=\"comp-dtls-wrap\"><a class=\"comp-name\" href=\"https://www.naukri.com/xoom-jobs-careers-123483045\" target=\"_blank\" title=\"Xoom\">Xoom</a></span></div><div class=\"row3\"><div class=\"job-details\"><span class=\"exp-wrap\"><span class=\"ni-job-tuple-icon ni-job-tuple-icon-srp-experience exp\"><span class=\"expwdth\" title=\"0-2 Yrs \">0-2 Yrs</span></span></span><span class=\"sal-wrap ver-line\"><span class=\"ni-job-tuple-icon ni-job-tuple-icon-srp-rupee sal\"><span class=\"\" title=\"Not disclosed \">Not disclosed</span></span></span><span class=\"loc-wrap ver-line\"><span class=\"ni-job-tuple-icon ni-job-tuple-icon-srp-location loc\"><span class=\"locWdth\" title=\"Chennai, Bengaluru \">Chennai, Bengaluru</span></span></span></div></div><div class=\"row4\"><span class=\"job-desc ni-job-tuple-icon ni-job-tuple-icon-srp-description\">Analytical Acumen: A Bachelors or Masters degree in a quantitative field (Statistics, M...</span></div><div class=\"row5\"><ul class=\"tags-gt\"><li class=\"dot-gt tag-li\">Data analysis</li><li class=\"dot-gt tag-li\">Analytical</li><li class=\"dot-gt tag-li\">Manager Technology</li><li class=\"dot-gt tag-li\">Commerce</li><li class=\"dot-gt tag-li\">Data Analyst</li><li class=\"dot-gt tag-li\">data visualization</li><li class=\"dot-gt tag-li\">Analytics</li><li class=\"dot-gt tag-li\">Financial services</li></ul></div><div class=\"row6\"> <span class=\"job-post-day\">1 Day Ago</span><span class=\"ni-job-tuple-icon ni-job-tuple-icon-srpSaveUnfilled un-saved save-job-tag\">save</span></div></div>"
      ]
     },
     "execution_count": 30,
     "metadata": {},
     "output_type": "execute_result"
    }
   ],
   "source": [
    "soup.find('div', class_ = \"cust-job-tuple layout-wrapper lay-2 sjw__tuple\")"
   ]
  },
  {
   "cell_type": "code",
   "execution_count": null,
   "id": "1e68d0e4-8479-4167-81bc-eb03e32cf946",
   "metadata": {},
   "outputs": [],
   "source": []
  }
 ],
 "metadata": {
  "kernelspec": {
   "display_name": "Python 3 (ipykernel)",
   "language": "python",
   "name": "python3"
  },
  "language_info": {
   "codemirror_mode": {
    "name": "ipython",
    "version": 3
   },
   "file_extension": ".py",
   "mimetype": "text/x-python",
   "name": "python",
   "nbconvert_exporter": "python",
   "pygments_lexer": "ipython3",
   "version": "3.11.1"
  }
 },
 "nbformat": 4,
 "nbformat_minor": 5
}
