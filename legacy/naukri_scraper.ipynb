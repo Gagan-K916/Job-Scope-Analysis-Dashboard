{
 "cells": [
  {
   "cell_type": "code",
   "execution_count": 1,
   "id": "4c27964e-d7ca-45a9-97d2-e158a867b87e",
   "metadata": {},
   "outputs": [],
   "source": [
    "import pandas as pd\n",
    "\n",
    "from selenium import webdriver\n",
    "from bs4 import BeautifulSoup"
   ]
  },
  {
   "cell_type": "code",
   "execution_count": 2,
   "id": "011c96a4-9095-4be3-a982-a8b3ef82cc38",
   "metadata": {},
   "outputs": [],
   "source": [
    "base_url = 'https://www.naukri.com/'\n",
    "roles = ['data analyst']"
   ]
  },
  {
   "cell_type": "code",
   "execution_count": 3,
   "id": "fcf24196-92a3-455e-b4db-95b5b790f3da",
   "metadata": {},
   "outputs": [],
   "source": [
    "driver = webdriver.Edge()"
   ]
  },
  {
   "cell_type": "code",
   "execution_count": 4,
   "id": "564775a2-f9d4-49ee-b395-b80046ad0206",
   "metadata": {},
   "outputs": [],
   "source": [
    "\n",
    "# driver.get(f\"{base_url}{'-'.join('data analyst'.split(' '))}-jobs\")\n",
    "# soup = BeautifulSoup(driver.page_source, 'html.parser')\n",
    "# soup.find('div', class_ = 'srp-jobtuple-wrapper').text"
   ]
  },
  {
   "cell_type": "code",
   "execution_count": 7,
   "id": "7761ce62-3612-4c27-86f6-c06a521491d2",
   "metadata": {},
   "outputs": [
    {
     "ename": "AttributeError",
     "evalue": "'NoneType' object has no attribute 'text'",
     "output_type": "error",
     "traceback": [
      "\u001b[1;31m---------------------------------------------------------------------------\u001b[0m",
      "\u001b[1;31mAttributeError\u001b[0m                            Traceback (most recent call last)",
      "Cell \u001b[1;32mIn[7], line 3\u001b[0m\n\u001b[0;32m      1\u001b[0m driver\u001b[38;5;241m.\u001b[39mget(\u001b[38;5;124m\"\u001b[39m\u001b[38;5;124mhttps://www.naukri.com/data-analyst-jobs\u001b[39m\u001b[38;5;124m\"\u001b[39m)\n\u001b[0;32m      2\u001b[0m soup \u001b[38;5;241m=\u001b[39m BeautifulSoup(driver\u001b[38;5;241m.\u001b[39mpage_source, \u001b[38;5;124m'\u001b[39m\u001b[38;5;124mhtml.parser\u001b[39m\u001b[38;5;124m'\u001b[39m)\n\u001b[1;32m----> 3\u001b[0m \u001b[43msoup\u001b[49m\u001b[38;5;241;43m.\u001b[39;49m\u001b[43mfind\u001b[49m\u001b[43m(\u001b[49m\u001b[38;5;124;43m'\u001b[39;49m\u001b[38;5;124;43mdiv\u001b[39;49m\u001b[38;5;124;43m'\u001b[39;49m\u001b[43m,\u001b[49m\u001b[43m \u001b[49m\u001b[43mclass_\u001b[49m\u001b[43m \u001b[49m\u001b[38;5;241;43m=\u001b[39;49m\u001b[43m \u001b[49m\u001b[38;5;124;43m'\u001b[39;49m\u001b[38;5;124;43mcust-job-tuple layout-wrapper lay-2 sjw__tuple \u001b[39;49m\u001b[38;5;124;43m'\u001b[39;49m\u001b[43m)\u001b[49m\u001b[38;5;241;43m.\u001b[39;49m\u001b[43mtext\u001b[49m\n",
      "\u001b[1;31mAttributeError\u001b[0m: 'NoneType' object has no attribute 'text'"
     ]
    }
   ],
   "source": [
    "driver.get(\"https://www.naukri.com/data-analyst-jobs\")\n",
    "soup = BeautifulSoup(driver.page_source, 'html.parser')\n",
    "soup.find('div', class_ = 'cust-job-tuple layout-wrapper lay-2 sjw__tuple ').text"
   ]
  },
  {
   "cell_type": "code",
   "execution_count": null,
   "id": "d3f5cccc-2a73-4c24-98bd-c79c64cbfe00",
   "metadata": {},
   "outputs": [],
   "source": []
  }
 ],
 "metadata": {
  "kernelspec": {
   "display_name": "Python 3 (ipykernel)",
   "language": "python",
   "name": "python3"
  },
  "language_info": {
   "codemirror_mode": {
    "name": "ipython",
    "version": 3
   },
   "file_extension": ".py",
   "mimetype": "text/x-python",
   "name": "python",
   "nbconvert_exporter": "python",
   "pygments_lexer": "ipython3",
   "version": "3.11.1"
  }
 },
 "nbformat": 4,
 "nbformat_minor": 5
}
